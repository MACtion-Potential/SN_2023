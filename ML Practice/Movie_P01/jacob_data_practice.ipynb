{
 "cells": [
  {
   "cell_type": "code",
   "execution_count": 8,
   "metadata": {},
   "outputs": [
    {
     "name": "stdout",
     "output_type": "stream",
     "text": [
      "(5, 58, 36)\n"
     ]
    }
   ],
   "source": [
    "import scipy.io\n",
    "import numpy as np\n",
    "\n",
    "raw_data = {}\n",
    "for i in range(1,37):\n",
    "    mat = scipy.io.loadmat(\"EEG_Clip\"+str(i)+\".mat\")\n",
    "    raw_data[i] = mat[\"ThisEEG\"]\n",
    "\n",
    "emotions = scipy.io.loadmat(\"Dt_SelfReports.mat\")\n",
    "#this is 5 ratings, from 58 people, for 36 movies\n",
    "emotions = emotions[\"Ratings\"]\n",
    "\n",
    "print(np.shape(emotions))"
   ]
  },
  {
   "cell_type": "code",
   "execution_count": 4,
   "metadata": {},
   "outputs": [],
   "source": [
    "features={}\n",
    "for key in range(1,37):\n",
    "    features[key] = np.mean(raw_data[key])"
   ]
  }
 ],
 "metadata": {
  "kernelspec": {
   "display_name": "Python 3",
   "language": "python",
   "name": "python3"
  },
  "language_info": {
   "codemirror_mode": {
    "name": "ipython",
    "version": 3
   },
   "file_extension": ".py",
   "mimetype": "text/x-python",
   "name": "python",
   "nbconvert_exporter": "python",
   "pygments_lexer": "ipython3",
   "version": "3.9.0"
  }
 },
 "nbformat": 4,
 "nbformat_minor": 2
}
