{
 "cells": [
  {
   "cell_type": "code",
   "execution_count": 12,
   "metadata": {},
   "outputs": [],
   "source": [
    "import scipy.io\n",
    "import numpy as np\n",
    "\n",
    "raw_data = {}\n",
    "for i in range(1,37):\n",
    "    mat = scipy.io.loadmat(\"EEG_Clip\"+str(i)+\".mat\")\n",
    "    raw_data[i] = mat[\"ThisEEG\"]\n"
   ]
  },
  {
   "cell_type": "code",
   "execution_count": 13,
   "metadata": {},
   "outputs": [
    {
     "ename": "TypeError",
     "evalue": "unhashable type: 'slice'",
     "output_type": "error",
     "traceback": [
      "\u001b[1;31m---------------------------------------------------------------------------\u001b[0m",
      "\u001b[1;31mTypeError\u001b[0m                                 Traceback (most recent call last)",
      "\u001b[1;32mc:\\Users\\Jacob\\OneDrive - McMaster University\\Documents\\GitHub\\SN_2023\\ML Practice\\Movie_P01\\jacob_data_practice.ipynb Cell 2\u001b[0m line \u001b[0;36m<cell line: 2>\u001b[1;34m()\u001b[0m\n\u001b[0;32m      <a href='vscode-notebook-cell:/c%3A/Users/Jacob/OneDrive%20-%20McMaster%20University/Documents/GitHub/SN_2023/ML%20Practice/Movie_P01/jacob_data_practice.ipynb#W1sZmlsZQ%3D%3D?line=0'>1</a>\u001b[0m features\u001b[39m=\u001b[39m{}\n\u001b[0;32m      <a href='vscode-notebook-cell:/c%3A/Users/Jacob/OneDrive%20-%20McMaster%20University/Documents/GitHub/SN_2023/ML%20Practice/Movie_P01/jacob_data_practice.ipynb#W1sZmlsZQ%3D%3D?line=1'>2</a>\u001b[0m \u001b[39mfor\u001b[39;00m key \u001b[39min\u001b[39;00m \u001b[39mrange\u001b[39m(\u001b[39m1\u001b[39m,\u001b[39m37\u001b[39m):\n\u001b[1;32m----> <a href='vscode-notebook-cell:/c%3A/Users/Jacob/OneDrive%20-%20McMaster%20University/Documents/GitHub/SN_2023/ML%20Practice/Movie_P01/jacob_data_practice.ipynb#W1sZmlsZQ%3D%3D?line=2'>3</a>\u001b[0m     features[i] \u001b[39m=\u001b[39m np\u001b[39m.\u001b[39mmean(raw_data[i:\u001b[39m0\u001b[39;49m])\n",
      "\u001b[1;31mTypeError\u001b[0m: unhashable type: 'slice'"
     ]
    }
   ],
   "source": [
    "features={}\n",
    "for key in range(1,37):\n",
    "    features[i] = np.mean(raw_data[i:0])"
   ]
  }
 ],
 "metadata": {
  "kernelspec": {
   "display_name": "Python 3",
   "language": "python",
   "name": "python3"
  },
  "language_info": {
   "codemirror_mode": {
    "name": "ipython",
    "version": 3
   },
   "file_extension": ".py",
   "mimetype": "text/x-python",
   "name": "python",
   "nbconvert_exporter": "python",
   "pygments_lexer": "ipython3",
   "version": "3.10.6"
  }
 },
 "nbformat": 4,
 "nbformat_minor": 2
}
