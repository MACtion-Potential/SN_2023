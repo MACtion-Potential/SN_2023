{
 "cells": [
  {
   "cell_type": "code",
   "execution_count": 5,
   "metadata": {},
   "outputs": [],
   "source": [
    "import scipy.io\n",
    " \n",
    "mat = scipy.io.loadmat(\"EEG_Clip1.mat\")"
   ]
  },
  {
   "cell_type": "code",
   "execution_count": 12,
   "metadata": {},
   "outputs": [
    {
     "name": "stdout",
     "output_type": "stream",
     "text": [
      "[[336.  234.5 133.  ... 318.5 331.  331. ]\n",
      " [601.  597.5 594.  ... 400.  400.  400. ]\n",
      " [597.  597.  597.  ... 571.5 578.5 585.5]\n",
      " ...\n",
      " [119.5 119.5 119.5 ... 168.5 168.  168. ]\n",
      " [ 43.   43.   43.  ...  44.   44.   44. ]\n",
      " [206.5 209.5 212.5 ... 185.5 185.  184.5]]\n"
     ]
    }
   ],
   "source": [
    "EEG_data = mat['ThisEEG']\n",
    "\n",
    "print(EEG_data)"
   ]
  }
 ],
 "metadata": {
  "kernelspec": {
   "display_name": "Python 3",
   "language": "python",
   "name": "python3"
  },
  "language_info": {
   "codemirror_mode": {
    "name": "ipython",
    "version": 3
   },
   "file_extension": ".py",
   "mimetype": "text/x-python",
   "name": "python",
   "nbconvert_exporter": "python",
   "pygments_lexer": "ipython3",
   "version": "3.10.6"
  }
 },
 "nbformat": 4,
 "nbformat_minor": 2
}
