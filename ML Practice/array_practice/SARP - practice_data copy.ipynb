{
 "cells": [
  {
   "cell_type": "markdown",
   "metadata": {},
   "source": []
  },
  {
   "cell_type": "code",
   "execution_count": 2,
   "metadata": {},
   "outputs": [],
   "source": [
    "import numpy as np\n",
    "import matplotlib.pyplot as plt\n",
    "import sklearn\n",
    "import scipy.io\n",
    "from sklearn import svm\n",
    "\n",
    "#test"
   ]
  },
  {
   "cell_type": "code",
   "execution_count": 13,
   "metadata": {},
   "outputs": [
    {
     "name": "stdout",
     "output_type": "stream",
     "text": [
      "[ 1.  3.  2.  3.  2.  2.  1.  0.  2.  2.  1.  1.  1.  2.  2.  2.  2.  2.\n",
      "  2.  2.  2.  1.  0.  2.  2.  3.  1.  2.  3.  2.  2.  2.  2.  2.  2.  1.\n",
      "  0.  1.  0.  0.  0.  0.  0.  0.  0.  0.  0.  0.  3.  1.  0. -1.  0.  3.\n",
      "  0.  0.  0.  0.]\n",
      "accuracy= 0.7\n"
     ]
    }
   ],
   "source": [
    "emotions = scipy.io.loadmat(\"Dt_SelfReports.mat\")\n",
    "print(((emotions[\"Ratings\"][1,:,0])))\n",
    "#Array goes emotion(5), movie(36), person(58)\n",
    "\n",
    "trainingfit_feature_x = emotions[\"Ratings\"][1, 0:26, 1:]\n",
    "trainingfit_label_y = emotions[\"Ratings\"][1, 0:26, 0]\n",
    "\n",
    "testingpredict_feature_x = emotions[\"Ratings\"][1, 26:, 1:]\n",
    "testingpredict_label_y = emotions[\"Ratings\"][1, 26:, 0]\n",
    "\n",
    "learner = svm.SVC()\n",
    "\n",
    "learner.fit(trainingfit_feature_x, trainingfit_label_y)\n",
    "\n",
    "working = learner.predict(testingpredict_feature_x)\n",
    "count = 0\n",
    "for i in range(10):\n",
    "    if testingpredict_label_y[i] == working[i]:\n",
    "        count += 1\n",
    "    \n",
    "print(\"accuracy=\", count/10)\n"
   ]
  },
  {
   "cell_type": "code",
   "execution_count": null,
   "metadata": {},
   "outputs": [],
   "source": []
  },
  {
   "cell_type": "code",
   "execution_count": 24,
   "metadata": {},
   "outputs": [
    {
     "name": "stdout",
     "output_type": "stream",
     "text": [
      "accuracy= 0.964\n"
     ]
    }
   ],
   "source": [
    "trainingfit_feature_x = practice3[0:1500, 0:3]\n",
    "trainingfit_label_y = practice3[0:1500, 3]\n",
    "\n",
    "testingpredict_feature_x = practice3[1500: , 0:3]\n",
    "testingpredict_label_y = practice3[1500: , 3]\n",
    "\n",
    "learner = svm.SVC()\n",
    "\n",
    "learner.fit(trainingfit_feature_x, trainingfit_label_y)\n",
    "\n",
    "working = learner.predict(testingpredict_feature_x)\n",
    "count = 0\n",
    "for i in range(500):\n",
    "    if testingpredict_label_y[i] == working[i]:\n",
    "        count += 1\n",
    "    \n",
    "print(\"accuracy=\", count/500)\n"
   ]
  }
 ],
 "metadata": {
  "kernelspec": {
   "display_name": "Python 3",
   "language": "python",
   "name": "python3"
  },
  "language_info": {
   "codemirror_mode": {
    "name": "ipython",
    "version": 3
   },
   "file_extension": ".py",
   "mimetype": "text/x-python",
   "name": "python",
   "nbconvert_exporter": "python",
   "pygments_lexer": "ipython3",
   "version": "3.9.6"
  }
 },
 "nbformat": 4,
 "nbformat_minor": 2
}
