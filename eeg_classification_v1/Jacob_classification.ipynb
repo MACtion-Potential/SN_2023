{
 "cells": [
  {
   "cell_type": "markdown",
   "metadata": {},
   "source": [
    "I will try to perform some principle component analysis on the Fourier transforms of the EEG datasets. The goal of this will be to see if the Fourier transform maintains any information that can be used to seperate the \"happy\" and \"sad\" EEG recordings, defined by a positive and negative valence respectivly. "
   ]
  },
  {
   "cell_type": "code",
   "execution_count": 14,
   "metadata": {},
   "outputs": [
    {
     "ename": "SyntaxError",
     "evalue": "invalid syntax (3477435837.py, line 6)",
     "output_type": "error",
     "traceback": [
      "\u001b[1;36m  Cell \u001b[1;32mIn[14], line 6\u001b[1;36m\u001b[0m\n\u001b[1;33m    import mne == 1.0.3\u001b[0m\n\u001b[1;37m               ^\u001b[0m\n\u001b[1;31mSyntaxError\u001b[0m\u001b[1;31m:\u001b[0m invalid syntax\n"
     ]
    }
   ],
   "source": [
    "import scipy.io\n",
    "import numpy as np\n",
    "import sklearn\n",
    "from sklearn.decomposition import PCA\n",
    "#note we need a specific version of mne for this to work, specify version ... when installing\n",
    "import mne \n",
    "\n",
    "\n",
    "mat = scipy.io.loadmat('All_PX_VY_EEG_Ratings.mat')\n",
    "mat = mat[\"All_PX_VY_EEG_Ratings\"]\n",
    "print(np.shape(mat))"
   ]
  },
  {
   "cell_type": "code",
   "execution_count": 13,
   "metadata": {},
   "outputs": [
    {
     "name": "stdout",
     "output_type": "stream",
     "text": [
      "Creating RawArray with float64 data, n_channels=8, n_times=3267\n",
      "    Range : 0 ... 3266 =      0.000 ...   102.062 secs\n",
      "Ready.\n"
     ]
    },
    {
     "ename": "AttributeError",
     "evalue": "No mne.time_frequency attribute psd_welch",
     "output_type": "error",
     "traceback": [
      "\u001b[1;31m---------------------------------------------------------------------------\u001b[0m",
      "\u001b[1;31mAttributeError\u001b[0m                            Traceback (most recent call last)",
      "\u001b[1;32mc:\\Users\\Jacob\\Documents\\GitHub\\SN_2023\\eeg_classification_v1\\Jacob_classification.ipynb Cell 3\u001b[0m line \u001b[0;36m1\n\u001b[0;32m     <a href='vscode-notebook-cell:/c%3A/Users/Jacob/Documents/GitHub/SN_2023/eeg_classification_v1/Jacob_classification.ipynb#W3sZmlsZQ%3D%3D?line=10'>11</a>\u001b[0m raw_mne \u001b[39m=\u001b[39m mne\u001b[39m.\u001b[39mio\u001b[39m.\u001b[39mRawArray(eeg, info)\n\u001b[0;32m     <a href='vscode-notebook-cell:/c%3A/Users/Jacob/Documents/GitHub/SN_2023/eeg_classification_v1/Jacob_classification.ipynb#W3sZmlsZQ%3D%3D?line=11'>12</a>\u001b[0m \u001b[39m#taking the fourier transform and then moving it back to a numpy array, just doing it in one line\u001b[39;00m\n\u001b[1;32m---> <a href='vscode-notebook-cell:/c%3A/Users/Jacob/Documents/GitHub/SN_2023/eeg_classification_v1/Jacob_classification.ipynb#W3sZmlsZQ%3D%3D?line=12'>13</a>\u001b[0m fourier_data \u001b[39m=\u001b[39m np\u001b[39m.\u001b[39marray(mne\u001b[39m.\u001b[39;49mtime_frequency\u001b[39m.\u001b[39;49mpsd_welch(eeg,fmin\u001b[39m=\u001b[39m\u001b[39m0\u001b[39m,fmax\u001b[39m=\u001b[39m\u001b[39m16\u001b[39m,picks\u001b[39m=\u001b[39m[\u001b[39m'\u001b[39m\u001b[39m1\u001b[39m\u001b[39m'\u001b[39m,\u001b[39m'\u001b[39m\u001b[39m2\u001b[39m\u001b[39m'\u001b[39m,\u001b[39m'\u001b[39m\u001b[39m3\u001b[39m\u001b[39m'\u001b[39m,\u001b[39m'\u001b[39m\u001b[39m4\u001b[39m\u001b[39m'\u001b[39m,\u001b[39m'\u001b[39m\u001b[39m5\u001b[39m\u001b[39m'\u001b[39m,\u001b[39m'\u001b[39m\u001b[39m6\u001b[39m\u001b[39m'\u001b[39m,\u001b[39m'\u001b[39m\u001b[39m7\u001b[39m\u001b[39m'\u001b[39m,\u001b[39m'\u001b[39m\u001b[39m8\u001b[39m\u001b[39m'\u001b[39m]))\n",
      "File \u001b[1;32mc:\\Users\\Jacob\\AppData\\Local\\Programs\\Python\\Python39\\lib\\site-packages\\lazy_loader\\__init__.py:89\u001b[0m, in \u001b[0;36mattach.<locals>.__getattr__\u001b[1;34m(name)\u001b[0m\n\u001b[0;32m     87\u001b[0m     \u001b[39mreturn\u001b[39;00m attr\n\u001b[0;32m     88\u001b[0m \u001b[39melse\u001b[39;00m:\n\u001b[1;32m---> 89\u001b[0m     \u001b[39mraise\u001b[39;00m \u001b[39mAttributeError\u001b[39;00m(\u001b[39mf\u001b[39m\u001b[39m\"\u001b[39m\u001b[39mNo \u001b[39m\u001b[39m{\u001b[39;00mpackage_name\u001b[39m}\u001b[39;00m\u001b[39m attribute \u001b[39m\u001b[39m{\u001b[39;00mname\u001b[39m}\u001b[39;00m\u001b[39m\"\u001b[39m)\n",
      "\u001b[1;31mAttributeError\u001b[0m: No mne.time_frequency attribute psd_welch"
     ]
    }
   ],
   "source": [
    "#first we will take the fourier transform of all the EEG signals, we will store the reported valence of the video as well\n",
    "\n",
    "#creating info object for mne\n",
    "info = mne.create_info(ch_names=['1','2','3','4','5','6','7','8'], sfreq = 32, ch_types=\"eeg\")\n",
    "\n",
    "\n",
    "for person in range(0,58):\n",
    "    for video in range(0,36):\n",
    "        eeg = mat[person,video][0:8]\n",
    "        #move from numpy array to mne array\n",
    "        raw_mne = mne.io.RawArray(eeg, info)\n",
    "        #taking the fourier transform and then moving it back to a numpy array, just doing it in one line\n",
    "        fourier_data = np.array(mne.time_frequency.psd_welch(eeg,fmin=0,fmax=16,picks=['1','2','3','4','5','6','7','8']))\n",
    "        \n",
    "        \n"
   ]
  }
 ],
 "metadata": {
  "kernelspec": {
   "display_name": "Python 3",
   "language": "python",
   "name": "python3"
  },
  "language_info": {
   "codemirror_mode": {
    "name": "ipython",
    "version": 3
   },
   "file_extension": ".py",
   "mimetype": "text/x-python",
   "name": "python",
   "nbconvert_exporter": "python",
   "pygments_lexer": "ipython3",
   "version": "3.9.0"
  }
 },
 "nbformat": 4,
 "nbformat_minor": 2
}
