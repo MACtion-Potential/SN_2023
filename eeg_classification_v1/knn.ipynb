{
 "cells": [
  {
   "cell_type": "code",
   "execution_count": 2,
   "metadata": {},
   "outputs": [],
   "source": [
    "import pandas as pd\n",
    "import numpy as np\n",
    "from scipy.io import loadmat\n",
    "import matplotlib.pyplot as plt\n",
    "from sklearn.model_selection import train_test_split\n",
    "from sklearn.neighbors import KNeighborsClassifier\n",
    "from sklearn.metrics import accuracy_score\n",
    "#np.set_printoptions(threshold=np.inf, linewidth=np.inf)"
   ]
  },
  {
   "cell_type": "code",
   "execution_count": 9,
   "metadata": {},
   "outputs": [
    {
     "name": "stdout",
     "output_type": "stream",
     "text": [
      "accuracy= 0.3968253968253968\n"
     ]
    },
    {
     "data": {
      "text/plain": [
       "(array([27., 52.,  0., 60.,  0., 62., 66.,  0., 70., 41.]),\n",
       " array([-3. , -2.4, -1.8, -1.2, -0.6,  0. ,  0.6,  1.2,  1.8,  2.4,  3. ]),\n",
       " <BarContainer object of 10 artists>)"
      ]
     },
     "execution_count": 9,
     "metadata": {},
     "output_type": "execute_result"
    },
    {
     "data": {
      "image/png": "[encoded data removed]",
      "text/plain": [
       "<Figure size 640x480 with 1 Axes>"
      ]
     },
     "metadata": {},
     "output_type": "display_data"
    }
   ],
   "source": [
    "\n",
    "# Load data and obtain indices to extract training vs. testing data\n",
    "data = np.loadtxt(r\"C:\\Users\\macke\\OneDrive\\Documents\\GitHub\\SN_2023\\eeg_classification_v1\\all_fouriers2\",delimiter=\",\")\n",
    "PercentTraining = 0.8\n",
    "num_samples = data.shape[0]\n",
    "ind = np.arange(1,num_samples+1)\n",
    "num_train = int(num_samples*PercentTraining)\n",
    "TrainingRowInds = np.random.choice(num_samples, num_train, replace=False)\n",
    "ValidationRowInds = np.setdiff1d(np.arange(1, num_samples), TrainingRowInds)\n",
    "\n",
    "# Split training and testing data into features and labels\n",
    "TrainingFeatures = data[TrainingRowInds,:-1]\n",
    "TrainingLabels = data[TrainingRowInds,-1:]\n",
    "ValidationFeatures = data[ValidationRowInds,:-1]\n",
    "ValidationLabels = data[ValidationRowInds,-1:]\n",
    "\n",
    "# Perform KNN Classification\n",
    "knn = KNeighborsClassifier(n_neighbors=5)\n",
    "knn.fit(TrainingFeatures, TrainingLabels.ravel())\n",
    "results = knn.predict(ValidationFeatures)\n",
    "#print(results)\n",
    "\n",
    "#testing = n_network.predict(testing_features)\n",
    "count = 0\n",
    "for i in range(len(results)):\n",
    "    if np.sign(ValidationLabels[i]) == np.sign(results[i]):\n",
    "        count += 1\n",
    "\n",
    "print(\"accuracy=\", count/len(results))\n",
    "\n",
    "plt.hist(results,alpha=0.5)\n",
    "plt.hist(ValidationLabels,alpha=0.5)\n",
    "\n"
   ]
  },
  {
   "cell_type": "code",
   "execution_count": 17,
   "metadata": {},
   "outputs": [
    {
     "ename": "ValueError",
     "evalue": "Expected n_neighbors <= n_samples_fit, but n_neighbors = 1509, n_samples_fit = 1508, n_samples = 377",
     "output_type": "error",
     "traceback": [
      "\u001b[1;31m---------------------------------------------------------------------------\u001b[0m",
      "\u001b[1;31mValueError\u001b[0m                                Traceback (most recent call last)",
      "Cell \u001b[1;32mIn[17], line 26\u001b[0m\n\u001b[0;32m     24\u001b[0m knn \u001b[38;5;241m=\u001b[39m KNeighborsClassifier(n_neighbors\u001b[38;5;241m=\u001b[39mi)\n\u001b[0;32m     25\u001b[0m knn\u001b[38;5;241m.\u001b[39mfit(TrainingFeatures, TrainingLabels\u001b[38;5;241m.\u001b[39mravel())\n\u001b[1;32m---> 26\u001b[0m results \u001b[38;5;241m=\u001b[39m \u001b[43mknn\u001b[49m\u001b[38;5;241;43m.\u001b[39;49m\u001b[43mpredict\u001b[49m\u001b[43m(\u001b[49m\u001b[43mValidationFeatures\u001b[49m\u001b[43m)\u001b[49m\n\u001b[0;32m     27\u001b[0m \u001b[38;5;66;03m#print(results)\u001b[39;00m\n\u001b[0;32m     29\u001b[0m count \u001b[38;5;241m=\u001b[39m \u001b[38;5;241m0\u001b[39m\n",
      "File \u001b[1;32mc:\\Users\\macke\\environments\\mac_env\\Lib\\site-packages\\sklearn\\neighbors\\_classification.py:259\u001b[0m, in \u001b[0;36mKNeighborsClassifier.predict\u001b[1;34m(self, X)\u001b[0m\n\u001b[0;32m    255\u001b[0m \u001b[38;5;28;01mif\u001b[39;00m \u001b[38;5;28mself\u001b[39m\u001b[38;5;241m.\u001b[39mweights \u001b[38;5;241m==\u001b[39m \u001b[38;5;124m\"\u001b[39m\u001b[38;5;124muniform\u001b[39m\u001b[38;5;124m\"\u001b[39m:\n\u001b[0;32m    256\u001b[0m     \u001b[38;5;28;01mif\u001b[39;00m \u001b[38;5;28mself\u001b[39m\u001b[38;5;241m.\u001b[39m_fit_method \u001b[38;5;241m==\u001b[39m \u001b[38;5;124m\"\u001b[39m\u001b[38;5;124mbrute\u001b[39m\u001b[38;5;124m\"\u001b[39m \u001b[38;5;129;01mand\u001b[39;00m ArgKminClassMode\u001b[38;5;241m.\u001b[39mis_usable_for(\n\u001b[0;32m    257\u001b[0m         X, \u001b[38;5;28mself\u001b[39m\u001b[38;5;241m.\u001b[39m_fit_X, \u001b[38;5;28mself\u001b[39m\u001b[38;5;241m.\u001b[39mmetric\n\u001b[0;32m    258\u001b[0m     ):\n\u001b[1;32m--> 259\u001b[0m         probabilities \u001b[38;5;241m=\u001b[39m \u001b[38;5;28;43mself\u001b[39;49m\u001b[38;5;241;43m.\u001b[39;49m\u001b[43mpredict_proba\u001b[49m\u001b[43m(\u001b[49m\u001b[43mX\u001b[49m\u001b[43m)\u001b[49m\n\u001b[0;32m    260\u001b[0m         \u001b[38;5;28;01mif\u001b[39;00m \u001b[38;5;28mself\u001b[39m\u001b[38;5;241m.\u001b[39moutputs_2d_:\n\u001b[0;32m    261\u001b[0m             \u001b[38;5;28;01mreturn\u001b[39;00m np\u001b[38;5;241m.\u001b[39mstack(\n\u001b[0;32m    262\u001b[0m                 [\n\u001b[0;32m    263\u001b[0m                     \u001b[38;5;28mself\u001b[39m\u001b[38;5;241m.\u001b[39mclasses_[idx][np\u001b[38;5;241m.\u001b[39margmax(probas, axis\u001b[38;5;241m=\u001b[39m\u001b[38;5;241m1\u001b[39m)]\n\u001b[1;32m   (...)\u001b[0m\n\u001b[0;32m    266\u001b[0m                 axis\u001b[38;5;241m=\u001b[39m\u001b[38;5;241m1\u001b[39m,\n\u001b[0;32m    267\u001b[0m             )\n",
      "File \u001b[1;32mc:\\Users\\macke\\environments\\mac_env\\Lib\\site-packages\\sklearn\\neighbors\\_classification.py:366\u001b[0m, in \u001b[0;36mKNeighborsClassifier.predict_proba\u001b[1;34m(self, X)\u001b[0m\n\u001b[0;32m    362\u001b[0m         \u001b[38;5;28;01mreturn\u001b[39;00m probabilities\n\u001b[0;32m    364\u001b[0m     \u001b[38;5;66;03m# In that case, we do not need the distances to perform\u001b[39;00m\n\u001b[0;32m    365\u001b[0m     \u001b[38;5;66;03m# the weighting so we do not compute them.\u001b[39;00m\n\u001b[1;32m--> 366\u001b[0m     neigh_ind \u001b[38;5;241m=\u001b[39m \u001b[38;5;28;43mself\u001b[39;49m\u001b[38;5;241;43m.\u001b[39;49m\u001b[43mkneighbors\u001b[49m\u001b[43m(\u001b[49m\u001b[43mX\u001b[49m\u001b[43m,\u001b[49m\u001b[43m \u001b[49m\u001b[43mreturn_distance\u001b[49m\u001b[38;5;241;43m=\u001b[39;49m\u001b[38;5;28;43;01mFalse\u001b[39;49;00m\u001b[43m)\u001b[49m\n\u001b[0;32m    367\u001b[0m     neigh_dist \u001b[38;5;241m=\u001b[39m \u001b[38;5;28;01mNone\u001b[39;00m\n\u001b[0;32m    368\u001b[0m \u001b[38;5;28;01melse\u001b[39;00m:\n",
      "File \u001b[1;32mc:\\Users\\macke\\environments\\mac_env\\Lib\\site-packages\\sklearn\\neighbors\\_base.py:835\u001b[0m, in \u001b[0;36mKNeighborsMixin.kneighbors\u001b[1;34m(self, X, n_neighbors, return_distance)\u001b[0m\n\u001b[0;32m    833\u001b[0m     \u001b[38;5;28;01melse\u001b[39;00m:\n\u001b[0;32m    834\u001b[0m         inequality_str \u001b[38;5;241m=\u001b[39m \u001b[38;5;124m\"\u001b[39m\u001b[38;5;124mn_neighbors <= n_samples_fit\u001b[39m\u001b[38;5;124m\"\u001b[39m\n\u001b[1;32m--> 835\u001b[0m     \u001b[38;5;28;01mraise\u001b[39;00m \u001b[38;5;167;01mValueError\u001b[39;00m(\n\u001b[0;32m    836\u001b[0m         \u001b[38;5;124mf\u001b[39m\u001b[38;5;124m\"\u001b[39m\u001b[38;5;124mExpected \u001b[39m\u001b[38;5;132;01m{\u001b[39;00minequality_str\u001b[38;5;132;01m}\u001b[39;00m\u001b[38;5;124m, but \u001b[39m\u001b[38;5;124m\"\u001b[39m\n\u001b[0;32m    837\u001b[0m         \u001b[38;5;124mf\u001b[39m\u001b[38;5;124m\"\u001b[39m\u001b[38;5;124mn_neighbors = \u001b[39m\u001b[38;5;132;01m{\u001b[39;00mn_neighbors\u001b[38;5;132;01m}\u001b[39;00m\u001b[38;5;124m, n_samples_fit = \u001b[39m\u001b[38;5;132;01m{\u001b[39;00mn_samples_fit\u001b[38;5;132;01m}\u001b[39;00m\u001b[38;5;124m, \u001b[39m\u001b[38;5;124m\"\u001b[39m\n\u001b[0;32m    838\u001b[0m         \u001b[38;5;124mf\u001b[39m\u001b[38;5;124m\"\u001b[39m\u001b[38;5;124mn_samples = \u001b[39m\u001b[38;5;132;01m{\u001b[39;00mX\u001b[38;5;241m.\u001b[39mshape[\u001b[38;5;241m0\u001b[39m]\u001b[38;5;132;01m}\u001b[39;00m\u001b[38;5;124m\"\u001b[39m  \u001b[38;5;66;03m# include n_samples for common tests\u001b[39;00m\n\u001b[0;32m    839\u001b[0m     )\n\u001b[0;32m    841\u001b[0m n_jobs \u001b[38;5;241m=\u001b[39m effective_n_jobs(\u001b[38;5;28mself\u001b[39m\u001b[38;5;241m.\u001b[39mn_jobs)\n\u001b[0;32m    842\u001b[0m chunked_results \u001b[38;5;241m=\u001b[39m \u001b[38;5;28;01mNone\u001b[39;00m\n",
      "\u001b[1;31mValueError\u001b[0m: Expected n_neighbors <= n_samples_fit, but n_neighbors = 1509, n_samples_fit = 1508, n_samples = 377"
     ]
    }
   ],
   "source": [
    "# The code shown below is the same as above, but now iterating over the number of nearest neighbours to produce a scree plot so we can\n",
    "# determine an optimal number of nearest neighbours\n",
    "\n",
    "# Load data and obtain indices to extract training vs. testing data\n",
    "data = np.loadtxt(r\"C:\\Users\\macke\\OneDrive\\Documents\\GitHub\\SN_2023\\eeg_classification_v1\\all_fouriers2\",delimiter=\",\")\n",
    "PercentTraining = 0.8\n",
    "num_samples = data.shape[0]\n",
    "ind = np.arange(1,num_samples+1)\n",
    "num_train = int(num_samples*PercentTraining)\n",
    "TrainingRowInds = np.random.choice(num_samples, num_train, replace=False)\n",
    "ValidationRowInds = np.setdiff1d(np.arange(1, num_samples), TrainingRowInds)\n",
    "\n",
    "# Split training and testing data into features and labels\n",
    "TrainingFeatures = data[TrainingRowInds,:-1]\n",
    "TrainingLabels = data[TrainingRowInds,-1:]\n",
    "ValidationFeatures = data[ValidationRowInds,:-1]\n",
    "ValidationLabels = data[ValidationRowInds,-1:]\n",
    "\n",
    "maxNumNeighbours = 2088\n",
    "accuracy = np.zeros((maxNumNeighbours))\n",
    "\n",
    "for i in range(1, maxNumNeighbours):\n",
    "    # Perform KNN Classification\n",
    "    knn = KNeighborsClassifier(n_neighbors=i)\n",
    "    knn.fit(TrainingFeatures, TrainingLabels.ravel())\n",
    "    results = knn.predict(ValidationFeatures)\n",
    "    #print(results)\n",
    "\n",
    "    count = 0\n",
    "    for j in range(len(results)):\n",
    "        if np.sign(ValidationLabels[j]) == np.sign(results[j]):\n",
    "            count += 1\n",
    "\n",
    "    accuracy[i] = count/(len(results))\n",
    "\n",
    "plt.plot(accuracy)\n",
    "#print(\"accuracy=\", count/len(results))\n",
    "    "
   ]
  }
 ],
 "metadata": {
  "kernelspec": {
   "display_name": "mac_env",
   "language": "python",
   "name": "python3"
  },
  "language_info": {
   "codemirror_mode": {
    "name": "ipython",
    "version": 3
   },
   "file_extension": ".py",
   "mimetype": "text/x-python",
   "name": "python",
   "nbconvert_exporter": "python",
   "pygments_lexer": "ipython3",
   "version": "3.12.2"
  }
 },
 "nbformat": 4,
 "nbformat_minor": 2
}
